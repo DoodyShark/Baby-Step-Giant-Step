{
 "cells": [
  {
   "cell_type": "code",
   "execution_count": 2,
   "metadata": {
    "collapsed": false
   },
   "outputs": [
   ],
   "source": [
    "# Performs fast addition to evaluating [k]P by multiplying P by 2 each time and\n",
    "# adding that result if the binary representation of k has a 1 in that spot\n",
    "def fast_addition(E, P, k):\n",
    "    out = E([0, 1, 0])\n",
    "    if k == 0:\n",
    "        return out\n",
    "    r = int(log(k, 2))\n",
    "    if k % 2 == 1:\n",
    "        out += P\n",
    "    for i in range(1, r + 1):\n",
    "        P = P + P\n",
    "        if int((k >> i) & 1) == 1:\n",
    "            out += P\n",
    "    return(out)"
   ]
  },
  {
   "cell_type": "code",
   "execution_count": 3,
   "metadata": {
    "collapsed": false
   },
   "outputs": [
   ],
   "source": [
    "# This method is pretty slow so I end up opting for the faster prebuilt order() method\n",
    "def find_elliptic_curve_order(p, a, b):\n",
    "    order = 1\n",
    "    for i in range(0, p):\n",
    "        order += 1 + Jacobi(mod(i^3 + a*i + b, p), p)\n",
    "    return order"
   ]
  },
  {
   "cell_type": "code",
   "execution_count": 4,
   "metadata": {
    "collapsed": false
   },
   "outputs": [
   ],
   "source": [
    "# Finds the order of a point in an elliptic curve given the curve\n",
    "# Relies on the theorem that g is a generator of the additive group G with identity element i iff \n",
    "# for every k factor of order(G), [order(G)/k] g != i. If it ever fails, the order of the point\n",
    "# divides that l and thus we can recursively repeat that process.\n",
    "def find_point_order(E, P, c_order):\n",
    "    O = E([0, 1, 0])\n",
    "    factors = [int(c_order/int(i[0])) for i in factor(c_order)]\n",
    "    for l in factors:\n",
    "        if fast_addition(E, P, l) == O:\n",
    "            return find_point_order(E, P, l)\n",
    "    return c_order"
   ]
  },
  {
   "cell_type": "code",
   "execution_count": 5,
   "metadata": {
    "collapsed": false
   },
   "outputs": [
   ],
   "source": [
    "# Finds ind_P(Q) using the baby-step-giant-step algorithm\n",
    "def ind(p, a, b, P, Q, verbose):\n",
    "    # Curve Validation\n",
    "    if not is_prime(p):\n",
    "        if verbose: print(\"Error: \" + str(p) + \" is not prime...\")\n",
    "        return \"Composite Characteristic Error\"\n",
    "    if (4*a^3 + 27*b^2 == 0):\n",
    "        if verbose: print(\"Error: The discriminant is 0...\")\n",
    "        return \"Zero Discriminant Error\"\n",
    "    if (mod(P[1]^2-P[0]^3-a*P[0]-b, p) != 0):\n",
    "        if verbose: print(\"Error: P not on the curve...\")\n",
    "        return \"Nonelement Error\"\n",
    "    # Generate the curve\n",
    "    E = EllipticCurve(GF(p), [a, b])\n",
    "    P = E([P[0], P[1], 1])\n",
    "    # Checking if P is a generator\n",
    "    E_order = E.order()\n",
    "    P_order = find_point_order(E, P, E_order)\n",
    "    if P_order != E_order:\n",
    "        if verbose: print(str(P) + \" is not a generator element...\")\n",
    "        return \"Nongenerator Element Error\"\n",
    "    # Checking if Q is on the curve\n",
    "    if (mod(Q[1]^2-Q[0]^3-a*Q[0]-b, p) != 0):\n",
    "        if verbose: print(\"Error: Q not on the curve...\")\n",
    "        return \"Nonelement Error\"\n",
    "    Q = E([Q[0], Q[1], 1])\n",
    "    # Generating Baby List\n",
    "    baby_l = []\n",
    "    m = ceil(sqrt(P_order))\n",
    "    if verbose: print(\"m = \" + str(m))\n",
    "    P_m = fast_addition(E, P, m)\n",
    "    P_inv = E([P[0], -P[1], 1])\n",
    "    sol_pair = [0, 0]\n",
    "    for j in range(0, m):\n",
    "        baby_l.append((j, Q + fast_addition(E, P_inv, j)))\n",
    "    # Computing the left-hand-side until a match is found\n",
    "    for i in range(0, m):\n",
    "        U = fast_addition(E, P_m, i)\n",
    "        for baby in baby_l:\n",
    "            if U == baby[1]:\n",
    "                if verbose: print(\"Found a match at i = \" + str(i) + \" and j = \" + str(baby[0]) + \", where the left and right hand sides are equal to \"  + str(U))\n",
    "                sol_pair = [i, baby[0]]\n",
    "                break\n",
    "    x = sol_pair[0]*m + sol_pair[1]\n",
    "    if verbose: print(\"Therefore, ind_P(Q) = im + j = \" + str(x))\n",
    "    if verbose:\n",
    "        Q_computed = fast_addition(E, P, x)\n",
    "        print(str(Q) + \" = [\" + str(x) +\"] \" + str(P) + \" = \" + str(Q_computed) + \". \" + str(Q == Q_computed))\n",
    "    return x # The index of Q sub P"
   ]
  },
  {
   "cell_type": "code",
   "execution_count": 6,
   "metadata": {
    "collapsed": false
   },
   "outputs": [
   ],
   "source": [
    "# TESTING:"
   ]
  },
  {
   "cell_type": "code",
   "execution_count": 7,
   "metadata": {
    "collapsed": false
   },
   "outputs": [
    {
     "name": "stdout",
     "output_type": "stream",
     "text": [
      "m = 84\n",
      "Found a match at i = 63 and j = 79, where the left and right hand sides are equal to (5585 : 2576 : 1)\n",
      "Therefore, ind_P(Q) = im + j = 5371\n",
      "(3329 : 6379 : 1) = [5371] (210 : 1338 : 1) = (3329 : 6379 : 1). True\n",
      "ind_P1(Q1) = 5371\n",
      "m = 78\n"
     ]
    },
    {
     "name": "stdout",
     "output_type": "stream",
     "text": [
      "Found a match at i = 64 and j = 6, where the left and right hand sides are equal to (2248 : 1598 : 1)\n",
      "Therefore, ind_P(Q) = im + j = 4998\n",
      "(4791 : 105 : 1) = [4998] (804 : 2425 : 1) = (4791 : 105 : 1). True\n",
      "ind_P2(Q2) = 4998\n",
      "m = 78\n",
      "Found a match at i = 60 and j = 9, where the left and right hand sides are equal to (3950 : 5872 : 1)\n",
      "Therefore, ind_P(Q) = im + j = 4689\n",
      "(5577 : 235 : 1) = [4689] (841 : 5852 : 1) = (5577 : 235 : 1). True\n",
      "ind_P3(Q3) = 4689\n"
     ]
    }
   ],
   "source": [
    "# Given Tests:\n",
    "# Curve 1\n",
    "p1 = 6917\n",
    "a1 = 0\n",
    "b1 = 6521\n",
    "P1 = (210, 1338)\n",
    "Q1 = (3329, 6379)\n",
    "index1 = ind(p1, a1, b1, P1, Q1, True)\n",
    "print(\"ind_P1(Q1) = \" + str(index1))\n",
    "\n",
    "# Curve 2\n",
    "p2 = 6047\n",
    "a2 = 0\n",
    "b2 = 5986\n",
    "P2 = (804, 2425)\n",
    "Q2 = (4791, 105)\n",
    "index2 = ind(p2, a2, b2, P2, Q2, True)\n",
    "print(\"ind_P2(Q2) = \" + str(index2))\n",
    "\n",
    "# Curve 3\n",
    "p3 = 5953\n",
    "a3 = 0\n",
    "b3 = 4687\n",
    "P3 = (841, 5852)\n",
    "Q3 = (5577, 235)\n",
    "index3 = ind(p3, a3, b3, P3, Q3, True)\n",
    "print(\"ind_P3(Q3) = \" + str(index3))"
   ]
  },
  {
   "cell_type": "code",
   "execution_count": 2,
   "metadata": {
    "collapsed": false
   },
   "outputs": [
   ],
   "source": [
    "# Modified Jacobi where Jacobi(kp, p) = 0 For any k\n",
    "def Jacobi(m, n):\n",
    "    m = int(m)\n",
    "    n = int(n)\n",
    "    if mod(m,n) == 0:\n",
    "        return 0\n",
    "    temp = 1\n",
    "    m -= int(m/n)*n\n",
    "    if n % 2 == 0:\n",
    "        print(str(n) + \" is not an odd integer.\")\n",
    "        return\n",
    "    if gcd(m, n) != 1:\n",
    "        print(str(m) + \" is not coprime to \" + str(n))\n",
    "        return\n",
    "    while m % 2 == 0:\n",
    "        temp *= pow(-1, (pow(n, 2) - 1)/8)\n",
    "        m /= 2\n",
    "    if m == 1:\n",
    "        return temp * 1\n",
    "    return temp * pow(-1, (m - 1)*(n - 1)/4) * Jacobi(n, m)"
   ]
  },
  {
   "cell_type": "code",
   "execution_count": 9,
   "metadata": {
    "collapsed": false,
    "scrolled": true
   },
   "outputs": [
    {
     "name": "stdout",
     "output_type": "stream",
     "text": [
      "p: 66959 | a: 13340 | b: 58080 | P: (66083, 39177) | Q: (17785, 5018)\n",
      "m = 259\n"
     ]
    },
    {
     "name": "stdout",
     "output_type": "stream",
     "text": [
      "Found a match at i = 43 and j = 197, where the left and right hand sides are equal to (666 : 48161 : 1)\n"
     ]
    },
    {
     "name": "stdout",
     "output_type": "stream",
     "text": [
      "Therefore, ind_P(Q) = im + j = 11334\n",
      "(17785 : 5018 : 1) = [11334] (66083 : 39177 : 1) = (17785 : 5018 : 1). True\n",
      "ind_P(Q) = 11334\n",
      "#######################\n",
      "p: 34939 | a: 22816 | b: 25295 | P: (20400, 4779) | Q: (14366, 13346)\n",
      "m = 188\n"
     ]
    },
    {
     "name": "stdout",
     "output_type": "stream",
     "text": [
      "Found a match at i = 128 and j = 2, where the left and right hand sides are equal to (811 : 27532 : 1)\n",
      "Therefore, ind_P(Q) = im + j = 24066\n",
      "(14366 : 13346 : 1) = [24066] (20400 : 4779 : 1) = (14366 : 13346 : 1). True\n",
      "ind_P(Q) = 24066\n",
      "#######################\n",
      "p: 61667 | a: 58935 | b: 52331 | P: (37097, 47822) | Q: (31269, 60520)\n",
      "m = 248\n"
     ]
    },
    {
     "name": "stdout",
     "output_type": "stream",
     "text": [
      "Found a match at i = 201 and j = 153, where the left and right hand sides are equal to (50340 : 29993 : 1)\n",
      "Therefore, ind_P(Q) = im + j = 50001\n",
      "(31269 : 60520 : 1) = [50001] (37097 : 47822 : 1) = (31269 : 60520 : 1). True\n",
      "ind_P(Q) = 50001\n",
      "#######################\n"
     ]
    },
    {
     "name": "stdout",
     "output_type": "stream",
     "text": [
      "p: 43591 | a: 7093 | b: 35888 | P: (26574, 36992) | Q: (18188, 16903)\n",
      "m = 209\n"
     ]
    },
    {
     "name": "stdout",
     "output_type": "stream",
     "text": [
      "Found a match at i = 15 and j = 199, where the left and right hand sides are equal to (17358 : 17613 : 1)\n"
     ]
    },
    {
     "name": "stdout",
     "output_type": "stream",
     "text": [
      "Therefore, ind_P(Q) = im + j = 3334\n",
      "(18188 : 16903 : 1) = [3334] (26574 : 36992 : 1) = (18188 : 16903 : 1). True\n",
      "ind_P(Q) = 3334\n",
      "#######################\n",
      "p: 22147 | a: 2774 | b: 15040 | P: (3122, 13432) | Q: (18067, 9610)\n",
      "m = 149\n"
     ]
    },
    {
     "name": "stdout",
     "output_type": "stream",
     "text": [
      "Found a match at i = 111 and j = 84, where the left and right hand sides are equal to (4955 : 8350 : 1)\n",
      "Therefore, ind_P(Q) = im + j = 16623\n",
      "(18067 : 9610 : 1) = [16623] (3122 : 13432 : 1) = (18067 : 9610 : 1). True\n",
      "ind_P(Q) = 16623\n",
      "#######################\n",
      "p: 96211 | a: 49869 | b: 9740 | P: (11787, 94641) | Q: (72284, 44475)\n",
      "m = 310\n"
     ]
    },
    {
     "name": "stdout",
     "output_type": "stream",
     "text": [
      "Found a match at i = 26 and j = 243, where the left and right hand sides are equal to (66846 : 79289 : 1)\n"
     ]
    },
    {
     "name": "stdout",
     "output_type": "stream",
     "text": [
      "Therefore, ind_P(Q) = im + j = 8303\n",
      "(72284 : 44475 : 1) = [8303] (11787 : 94641 : 1) = (72284 : 44475 : 1). True\n",
      "ind_P(Q) = 8303\n",
      "#######################\n",
      "p: 59167 | a: 4696 | b: 4149 | P: (37731, 40881) | Q: (41083, 10666)\n",
      "m = 244\n"
     ]
    },
    {
     "name": "stdout",
     "output_type": "stream",
     "text": [
      "Found a match at i = 218 and j = 146, where the left and right hand sides are equal to (28571 : 9810 : 1)\n",
      "Therefore, ind_P(Q) = im + j = 53338\n",
      "(41083 : 10666 : 1) = [53338] (37731 : 40881 : 1) = (41083 : 10666 : 1). True\n",
      "ind_P(Q) = 53338\n",
      "#######################\n",
      "p: 15107 | a: 2426 | b: 13696 | P: (8698, 1168) | Q: (14411, 5625)\n",
      "m = 123\n"
     ]
    },
    {
     "name": "stdout",
     "output_type": "stream",
     "text": [
      "Found a match at i = 121 and j = 84, where the left and right hand sides are equal to (14523 : 1004 : 1)\n",
      "Therefore, ind_P(Q) = im + j = 14967\n",
      "(14411 : 5625 : 1) = [14967] (8698 : 1168 : 1) = (14411 : 5625 : 1). True\n",
      "ind_P(Q) = 14967\n",
      "#######################\n",
      "p: 563 | a: 216 | b: 496 | P: (59, 439) | Q: (488, 399)\n",
      "m = 24\n",
      "Found a match at i = 7 and j = 21, where the left and right hand sides are equal to (157 : 142 : 1)\n",
      "Therefore, ind_P(Q) = im + j = 189\n",
      "(488 : 399 : 1) = [189] (59 : 439 : 1) = (488 : 399 : 1). True\n",
      "ind_P(Q) = 189\n",
      "#######################\n",
      "p: 72647 | a: 15797 | b: 9792 | P: (47933, 9352) | Q: (14572, 39109)\n",
      "m = 270\n"
     ]
    },
    {
     "name": "stdout",
     "output_type": "stream",
     "text": [
      "Found a match at i = 254 and j = 168, where the left and right hand sides are equal to (27681 : 31106 : 1)\n",
      "Therefore, ind_P(Q) = im + j = 68748\n",
      "(14572 : 39109 : 1) = [68748] (47933 : 9352 : 1) = (14572 : 39109 : 1). True\n",
      "ind_P(Q) = 68748\n",
      "#######################\n",
      "p: 35603 | a: 10887 | b: 10175 | P: (34298, 23898) | Q: (25953, 15711)\n",
      "m = 190\n"
     ]
    },
    {
     "name": "stdout",
     "output_type": "stream",
     "text": [
      "Found a match at i = 167 and j = 91, where the left and right hand sides are equal to (25101 : 31097 : 1)\n",
      "Therefore, ind_P(Q) = im + j = 31821\n",
      "(25953 : 15711 : 1) = [31821] (34298 : 23898 : 1) = (25953 : 15711 : 1). True\n",
      "ind_P(Q) = 31821\n",
      "#######################\n",
      "p: 77999 | a: 6251 | b: 24278 | P: (10310, 20604) | Q: (10424, 2010)\n",
      "m = 280\n"
     ]
    },
    {
     "name": "stdout",
     "output_type": "stream",
     "text": [
      "Found a match at i = 190 and j = 26, where the left and right hand sides are equal to (43535 : 20086 : 1)\n",
      "Therefore, ind_P(Q) = im + j = 53226\n",
      "(10424 : 2010 : 1) = [53226] (10310 : 20604 : 1) = (10424 : 2010 : 1). True\n",
      "ind_P(Q) = 53226\n",
      "#######################\n"
     ]
    },
    {
     "name": "stdout",
     "output_type": "stream",
     "text": [
      "p: 92639 | a: 9643 | b: 68841 | P: (79202, 16529) | Q: (75405, 75118)\n",
      "m = 305\n"
     ]
    },
    {
     "name": "stdout",
     "output_type": "stream",
     "text": [
      "Found a match at i = 60 and j = 7, where the left and right hand sides are equal to (26034 : 60158 : 1)\n"
     ]
    },
    {
     "name": "stdout",
     "output_type": "stream",
     "text": [
      "Therefore, ind_P(Q) = im + j = 18307\n",
      "(75405 : 75118 : 1) = [18307] (79202 : 16529 : 1) = (75405 : 75118 : 1). True\n",
      "ind_P(Q) = 18307\n",
      "#######################\n",
      "p: 42727 | a: 4447 | b: 29277 | P: (683, 2899) | Q: (6143, 27936)\n",
      "m = 207\n"
     ]
    },
    {
     "name": "stdout",
     "output_type": "stream",
     "text": [
      "Found a match at i = 91 and j = 187, where the left and right hand sides are equal to (40594 : 40398 : 1)\n",
      "Therefore, ind_P(Q) = im + j = 19024\n",
      "(6143 : 27936 : 1) = [19024] (683 : 2899 : 1) = (6143 : 27936 : 1). True\n",
      "ind_P(Q) = 19024\n",
      "#######################\n"
     ]
    },
    {
     "name": "stdout",
     "output_type": "stream",
     "text": [
      "p: 62383 | a: 13709 | b: 47487 | P: (31136, 38631) | Q: (6509, 18169)\n",
      "m = 251\n"
     ]
    },
    {
     "name": "stdout",
     "output_type": "stream",
     "text": [
      "Found a match at i = 117 and j = 28, where the left and right hand sides are equal to (47641 : 21347 : 1)\n"
     ]
    },
    {
     "name": "stdout",
     "output_type": "stream",
     "text": [
      "Therefore, ind_P(Q) = im + j = 29395\n",
      "(6509 : 18169 : 1) = [29395] (31136 : 38631 : 1) = (6509 : 18169 : 1). True\n",
      "ind_P(Q) = 29395\n",
      "#######################\n",
      "p: 28019 | a: 4425 | b: 21623 | P: (24197, 12897) | Q: (22942, 27851)\n",
      "m = 168\n"
     ]
    },
    {
     "name": "stdout",
     "output_type": "stream",
     "text": [
      "Found a match at i = 97 and j = 10, where the left and right hand sides are equal to (7771 : 27849 : 1)\n",
      "Therefore, ind_P(Q) = im + j = 16306\n",
      "(22942 : 27851 : 1) = [16306] (24197 : 12897 : 1) = (22942 : 27851 : 1). True\n",
      "ind_P(Q) = 16306\n",
      "#######################\n",
      "p: 27767 | a: 27492 | b: 19189 | P: (11959, 4771) | Q: (17643, 22194)\n",
      "m = 167\n"
     ]
    },
    {
     "name": "stdout",
     "output_type": "stream",
     "text": [
      "Found a match at i = 161 and j = 47, where the left and right hand sides are equal to (6632 : 23787 : 1)\n",
      "Therefore, ind_P(Q) = im + j = 26934\n",
      "(17643 : 22194 : 1) = [26934] (11959 : 4771 : 1) = (17643 : 22194 : 1). True\n",
      "ind_P(Q) = 26934\n",
      "#######################\n",
      "p: 80611 | a: 33701 | b: 70506 | P: (75418, 22796) | Q: (45590, 64805)\n",
      "m = 284\n"
     ]
    },
    {
     "name": "stdout",
     "output_type": "stream",
     "text": [
      "Found a match at i = 72 and j = 193, where the left and right hand sides are equal to (6736 : 77694 : 1)\n"
     ]
    },
    {
     "name": "stdout",
     "output_type": "stream",
     "text": [
      "Therefore, ind_P(Q) = im + j = 20641\n",
      "(45590 : 64805 : 1) = [20641] (75418 : 22796 : 1) = (45590 : 64805 : 1). True\n",
      "ind_P(Q) = 20641\n",
      "#######################\n",
      "p: 54251 | a: 45709 | b: 20753 | P: (14284, 52137) | Q: (43534, 6383)\n",
      "m = 233\n"
     ]
    },
    {
     "name": "stdout",
     "output_type": "stream",
     "text": [
      "Found a match at i = 89 and j = 133, where the left and right hand sides are equal to (50576 : 25590 : 1)\n"
     ]
    },
    {
     "name": "stdout",
     "output_type": "stream",
     "text": [
      "Therefore, ind_P(Q) = im + j = 20870\n",
      "(43534 : 6383 : 1) = [20870] (14284 : 52137 : 1) = (43534 : 6383 : 1). True\n",
      "ind_P(Q) = 20870\n",
      "#######################\n",
      "p: 80779 | a: 50168 | b: 17606 | P: (38397, 78031) | Q: (24095, 73355)\n",
      "m = 285\n"
     ]
    },
    {
     "name": "stdout",
     "output_type": "stream",
     "text": [
      "Found a match at i = 15 and j = 226, where the left and right hand sides are equal to (68966 : 50769 : 1)\n"
     ]
    },
    {
     "name": "stdout",
     "output_type": "stream",
     "text": [
      "Therefore, ind_P(Q) = im + j = 4501\n",
      "(24095 : 73355 : 1) = [4501] (38397 : 78031 : 1) = (24095 : 73355 : 1). True\n",
      "ind_P(Q) = 4501\n",
      "#######################\n"
     ]
    }
   ],
   "source": [
    "# Some Additional Tests:\n",
    "for k in range(20):\n",
    "    condition = True # The condition checks that p = 3 mod 4, disc != 0, and P is a generator\n",
    "    while condition:\n",
    "        condition = False\n",
    "        p = random_prime(10^5, proof = True)\n",
    "        condition = mod(p,4) == 1\n",
    "        a = randint(1, p - 1)\n",
    "        x = randint(1, p - 1)\n",
    "        y = randint(1, p - 1)\n",
    "        b = mod(y^2 - x^3 - a*x, p)\n",
    "        condition = condition or 4*a^3 + 27*b^2 == 0\n",
    "        E = EllipticCurve(GF(p),[a,b]);\n",
    "        P = E([x, y ,1])\n",
    "        condition = condition or E.order() != P.order()\n",
    "    # Square root algorithm for the case when p = 3 mod 4\n",
    "    m = p - 1\n",
    "    while (not int(m) & 1):\n",
    "        m = m/2\n",
    "    repeat = True\n",
    "    i = 0\n",
    "    express = 0\n",
    "    # We have to find a value for x_Q such that y_Q exists\n",
    "    while repeat:\n",
    "        i = randint(0, p-1)\n",
    "        express = i^3 + a*i+b\n",
    "        repeat = Jacobi(express, p) != 1\n",
    "    ans = power_mod(express, (m + 1)/2 , p) # y_Q = ans\n",
    "    P = (x, y)\n",
    "    Q = (i, ans)\n",
    "    print (\"p: \" + str(p) + \" | a: \" + str(a) + \" | b: \" + str(b) + \" | P: \" + str(P) + \" | Q: \" + str(Q))\n",
    "    index = ind(p, a, b, P, Q, True)\n",
    "    print(\"ind_P(Q) = \" + str(index))\n",
    "    print(\"#######################\")"
   ]
  },
  {
   "cell_type": "code",
   "execution_count": 7,
   "metadata": {
    "collapsed": false
   },
   "outputs": [
    {
     "data": {
      "text/plain": [
       "-1"
      ]
     },
     "execution_count": 7,
     "metadata": {
     },
     "output_type": "execute_result"
    }
   ],
   "source": [
    "Jacobi(234512, 80779)"
   ]
  },
  {
   "cell_type": "code",
   "execution_count": 6,
   "metadata": {
    "collapsed": false
   },
   "outputs": [
    {
     "data": {
      "text/plain": [
       "True"
      ]
     },
     "execution_count": 6,
     "metadata": {
     },
     "output_type": "execute_result"
    }
   ],
   "source": [
    "is_prime(80779)"
   ]
  }
 ],
 "metadata": {
  "kernelspec": {
   "display_name": "SageMath 9.7",
   "language": "sagemath",
   "metadata": {
    "cocalc": {
     "description": "Open-source mathematical software system",
     "priority": 10,
     "url": "https://www.sagemath.org/"
    }
   },
   "name": "sage-9.7",
   "resource_dir": "/ext/jupyter/kernels/sage-9.7"
  },
  "language_info": {
   "codemirror_mode": {
    "name": "ipython",
    "version": 3
   },
   "file_extension": ".py",
   "mimetype": "text/x-python",
   "name": "python",
   "nbconvert_exporter": "python",
   "pygments_lexer": "ipython3",
   "version": "3.10.5"
  }
 },
 "nbformat": 4,
 "nbformat_minor": 4
}